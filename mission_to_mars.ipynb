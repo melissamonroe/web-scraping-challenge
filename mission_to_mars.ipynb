{
 "metadata": {
  "language_info": {
   "codemirror_mode": {
    "name": "ipython",
    "version": 3
   },
   "file_extension": ".py",
   "mimetype": "text/x-python",
   "name": "python",
   "nbconvert_exporter": "python",
   "pygments_lexer": "ipython3",
   "version": "3.8.5-final"
  },
  "orig_nbformat": 2,
  "kernelspec": {
   "name": "python3",
   "display_name": "Python 3.8.5 64-bit (conda)",
   "metadata": {
    "interpreter": {
     "hash": "081b6216928d55ece203d92fdcd5214719477f63e022b6b86f3f62fef0361037"
    }
   }
  }
 },
 "nbformat": 4,
 "nbformat_minor": 2,
 "cells": [
  {
   "cell_type": "code",
   "execution_count": 1,
   "metadata": {},
   "outputs": [],
   "source": [
    "%load_ext autoreload\n",
    "%autoreload 2"
   ]
  },
  {
   "cell_type": "code",
   "execution_count": 2,
   "metadata": {},
   "outputs": [],
   "source": [
    "# Dependencies\n",
    "from bs4 import BeautifulSoup\n",
    "import pymongo\n",
    "import datetime\n",
    "from time import sleep\n",
    "\n",
    "import pandas as pd\n",
    "\n",
    "from splinter import Browser\n",
    "from webdriver_manager.chrome import ChromeDriverManager\n",
    "\n",
    "# Project defined dependencies\n",
    "import ipython_config\n",
    "import scrape_mars\n",
    "from pprint import pprint\n"
   ]
  },
  {
   "cell_type": "code",
   "execution_count": 3,
   "metadata": {},
   "outputs": [
    {
     "output_type": "stream",
     "name": "stderr",
     "text": [
      "[WDM] - ====== WebDriver manager ======\n",
      "[WDM] - Current google-chrome version is 88.0.4324\n",
      "[WDM] - Get LATEST driver version for 88.0.4324\n",
      "[WDM] - Driver [C:\\Users\\melis\\.wdm\\drivers\\chromedriver\\win32\\88.0.4324.96\\chromedriver.exe] found in cache\n",
      "\n",
      "\n"
     ]
    }
   ],
   "source": [
    "executable_path = {'executable_path': ChromeDriverManager().install()}\n",
    "browser = Browser('chrome', **executable_path, headless=False)"
   ]
  },
  {
   "cell_type": "code",
   "execution_count": 4,
   "metadata": {},
   "outputs": [],
   "source": [
    "my_scraper = scrape_mars.scraper()\n",
    "mars_dict = my_scraper.scrape(browser)\n"
   ]
  },
  {
   "cell_type": "code",
   "execution_count": 5,
   "metadata": {},
   "outputs": [
    {
     "output_type": "stream",
     "name": "stdout",
     "text": [
      "{'featured_image_url': 'https://data-class-jpl-space.s3.amazonaws.com/JPL_Space/image/featured/mars2.jpg',\n 'hemisphere_image_urls': [{'img_url': 'images/mars1.jpg',\n                            'title': 'Valles Marineris Hemisphere Enhanced'},\n                           {'img_url': 'images/mars2.jpg',\n                            'title': 'Cerberus Hemisphere Enhanced'},\n                           {'img_url': 'images/mars3.jpg',\n                            'title': 'Schiaparelli Hemisphere Enhanced'},\n                           {'img_url': 'images/mars4.jpg',\n                            'title': 'Syrtis Marjo Hemisphere Enhanced'}],\n 'mars_facts_html': '<table border=\"1\" class=\"dataframe\">\\n'\n                    '  <thead>\\n'\n                    '    <tr style=\"text-align: right;\">\\n'\n                    '      <th></th>\\n'\n                    '      <th>Fact Label</th>\\n'\n                    '      <th>Fact</th>\\n'\n                    '    </tr>\\n'\n                    '  </thead>\\n'\n                    '  <tbody>\\n'\n                    '    <tr>\\n'\n                    '      <th>0</th>\\n'\n                    '      <td>Equatorial Diameter:</td>\\n'\n                    '      <td>6,792 km</td>\\n'\n                    '    </tr>\\n'\n                    '    <tr>\\n'\n                    '      <th>1</th>\\n'\n                    '      <td>Polar Diameter:</td>\\n'\n                    '      <td>6,752 km</td>\\n'\n                    '    </tr>\\n'\n                    '    <tr>\\n'\n                    '      <th>2</th>\\n'\n                    '      <td>Mass:</td>\\n'\n                    '      <td>6.39 × 10^23 kg (0.11 Earths)</td>\\n'\n                    '    </tr>\\n'\n                    '    <tr>\\n'\n                    '      <th>3</th>\\n'\n                    '      <td>Moons:</td>\\n'\n                    '      <td>2 (Phobos &amp; Deimos)</td>\\n'\n                    '    </tr>\\n'\n                    '    <tr>\\n'\n                    '      <th>4</th>\\n'\n                    '      <td>Orbit Distance:</td>\\n'\n                    '      <td>227,943,824 km (1.38 AU)</td>\\n'\n                    '    </tr>\\n'\n                    '    <tr>\\n'\n                    '      <th>5</th>\\n'\n                    '      <td>Orbit Period:</td>\\n'\n                    '      <td>687 days (1.9 years)</td>\\n'\n                    '    </tr>\\n'\n                    '    <tr>\\n'\n                    '      <th>6</th>\\n'\n                    '      <td>Surface Temperature:</td>\\n'\n                    '      <td>-87 to -5 °C</td>\\n'\n                    '    </tr>\\n'\n                    '    <tr>\\n'\n                    '      <th>7</th>\\n'\n                    '      <td>First Record:</td>\\n'\n                    '      <td>2nd millennium BC</td>\\n'\n                    '    </tr>\\n'\n                    '    <tr>\\n'\n                    '      <th>8</th>\\n'\n                    '      <td>Recorded By:</td>\\n'\n                    '      <td>Egyptian astronomers</td>\\n'\n                    '    </tr>\\n'\n                    '  </tbody>\\n'\n                    '</table>',\n 'news_p': 'The heat probe hasn’t been able to gain the friction it needs to '\n           'dig, but the mission has been granted an extension to carry on '\n           'with its other science.',\n 'news_title': \"NASA InSight's ‘Mole' Ends Its Journey on Mars\"}\n"
     ]
    }
   ],
   "source": [
    "pprint(mars_dict)"
   ]
  },
  {
   "cell_type": "code",
   "execution_count": null,
   "metadata": {},
   "outputs": [],
   "source": []
  }
 ]
}